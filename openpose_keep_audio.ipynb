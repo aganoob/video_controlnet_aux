{
  "cells": [
    {
      "cell_type": "code",
      "execution_count": null,
      "metadata": {
        "id": "esBu6GvPtjyA"
      },
      "outputs": [],
      "source": [
        "!pip install -q diffusers==0.21.4 transformers==4.32.0 accelerate==0.22.0 omegaconf==2.3.0 einops==0.6.1 av gradio\n",
        "!pip install -q mediapipe fvcore ftfy addict yapf\n",
        "!pip install -q https://download.pytorch.org/whl/cu118/xformers-0.0.22.post4%2Bcu118-cp310-cp310-manylinux2014_x86_64.whl\n",
        "!apt -y install -qq aria2\n",
        "from huggingface_hub import snapshot_download\n",
        "%cd /content\n",
        "!git clone https://github.com/aganoob/video_controlnet_aux\n",
        "%cd /content/video_controlnet_aux"
      ]
    },
    {
      "cell_type": "code",
      "source": [
        "from pathlib import Path\n",
        "from utils import here\n",
        "import sys\n",
        "sys.path.append(str(Path(here, \"src\")))\n",
        "\n",
        "from src.video_controlnet_aux import main"
      ],
      "metadata": {
        "id": "kopkXfkfHXdr"
      },
      "execution_count": null,
      "outputs": []
    },
    {
      "cell_type": "code",
      "source": [
        "main()"
      ],
      "metadata": {
        "id": "t_gYg9xHJGHL"
      },
      "execution_count": null,
      "outputs": []
    },
    {
      "cell_type": "code",
      "source": [],
      "metadata": {
        "id": "owr8mz1uMGZ4"
      },
      "execution_count": null,
      "outputs": []
    }
  ],
  "metadata": {
    "accelerator": "GPU",
    "colab": {
      "provenance": []
    },
    "kernelspec": {
      "display_name": "Python 3",
      "name": "python3"
    },
    "language_info": {
      "name": "python"
    }
  },
  "nbformat": 4,
  "nbformat_minor": 0
}